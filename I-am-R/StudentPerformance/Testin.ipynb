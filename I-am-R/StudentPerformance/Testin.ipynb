{
 "cells": [
  {
   "cell_type": "markdown",
   "id": "3313c922-9961-43a5-b3cd-4d4134cd4e6f",
   "metadata": {},
   "source": [
    "### Testing libraly\n",
    "this will show us if we can use r inside the notebook"
   ]
  },
  {
   "cell_type": "code",
   "execution_count": 6,
   "id": "e2e69425-08a6-4d9c-b783-dfe982ad7c64",
   "metadata": {},
   "outputs": [],
   "source": [
    "library(openxlsx)\n",
    "\n",
    "file_path <- \"/home/me/Desktop/Codin/zero_day/I-am-R/StudentPerformance/Health Facilities Cleanning.xlsx\"\n",
    "\n",
    "# Load workbook\n",
    "wb <- loadWorkbook(file_path)\n",
    "\n",
    "# Read data\n",
    "hc_data <- readWorkbook(wb, sheet = \"TelMentorshipFacilities\")\n",
    "dh_data <- readWorkbook(wb, sheet = \"HMISFaacilities\")\n",
    "\n",
    "# Clean column names if needed\n",
    "names(hc_data) <- trimws(names(hc_data))\n",
    "names(dh_data) <- trimws(names(dh_data))\n",
    "\n",
    "# Get the column name in Sheet 1 where the hospital should be filled\n",
    "# (Assuming it's called \"Correct DH Name\", update if different)\n",
    "target_col <- \"Correct DH Name\"  # <- UPDATE if needed\n",
    "\n",
    "# Match logic (case-sensitive): Check if DH name is a prefix of HC name\n",
    "for (i in seq_len(nrow(hc_data))) {\n",
    "  hc_name <- hc_data[i, 1]\n",
    "\n",
    "  # Find a matching DH name that is a prefix to the HC name\n",
    "  match_idx <- which(sapply(dh_data[[1]], function(dh) {\n",
    "    grepl(paste0(\"^\", dh, \" \"), hc_name, fixed = FALSE)\n",
    "  }))\n",
    "\n",
    "  if (length(match_idx) > 0) {\n",
    "    matched_dh <- dh_data[[1]][match_idx[1]]\n",
    "    hc_data[i, target_col] <- matched_dh\n",
    "\n",
    "    # Highlight that DH row in yellow\n",
    "    addStyle(\n",
    "      wb, sheet = \"HMISFaacilities\",\n",
    "      style = createStyle(fgFill = \"#FFFF00\"),\n",
    "      rows = match_idx[1] + 1, cols = 1,\n",
    "      gridExpand = TRUE\n",
    "    )\n",
    "  }\n",
    "}\n",
    "\n",
    "# Overwrite Sheet 1 with updated data\n",
    "writeData(wb, sheet = \"TelMentorshipFacilities\", x = hc_data, withFilter = TRUE)\n",
    "\n",
    "# Save the updated file\n",
    "saveWorkbook(wb, file = file_path, overwrite = TRUE)\n"
   ]
  }
 ],
 "metadata": {
  "kernelspec": {
   "display_name": "R",
   "language": "R",
   "name": "ir"
  },
  "language_info": {
   "codemirror_mode": "r",
   "file_extension": ".r",
   "mimetype": "text/x-r-source",
   "name": "R",
   "pygments_lexer": "r",
   "version": "4.4.3"
  }
 },
 "nbformat": 4,
 "nbformat_minor": 5
}
